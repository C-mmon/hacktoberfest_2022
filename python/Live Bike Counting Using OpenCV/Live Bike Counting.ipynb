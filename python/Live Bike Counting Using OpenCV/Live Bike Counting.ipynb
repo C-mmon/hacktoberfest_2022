{
 "cells": [
  {
   "cell_type": "code",
   "execution_count": 1,
   "id": "59d68067",
   "metadata": {},
   "outputs": [],
   "source": [
    "import cv2"
   ]
  },
  {
   "cell_type": "code",
   "execution_count": 3,
   "id": "26fa6b55",
   "metadata": {},
   "outputs": [],
   "source": [
    "bike_count = 0\n",
    "pre_bike_count = bike_count\n",
    "line_pt_1 = (1, 550)\n",
    "line_pt_2 = (1273, 550)\n",
    "source = cv2.VideoCapture(0) # download demo video live bikes.mp4 from here: https://drive.google.com/file/d/1z6segCa7WeMmr4_AntuiRWcvLOwqnem2/view?usp=share_link\n",
    "cascade = cv2.CascadeClassifier(\"two_wheeler.xml\")\n",
    "center_max = -1\n",
    "\n",
    "while True:\n",
    "    ret, frame = source.read()\n",
    "    \n",
    "    if ret:\n",
    "        gray = cv2.cvtColor(frame, cv2.COLOR_BGR2GRAY)\n",
    "        bikes = cascade.detectMultiScale(gray, scaleFactor=1.05, minNeighbors=3)\n",
    "        cv2.line(frame, line_pt_1, line_pt_2, (0, 128, 255), 6)\n",
    "        \n",
    "        for (x, y, w, h) in bikes:\n",
    "            center_y = int(y + h / 2)\n",
    "            if center_y > line_pt_1[1] - 7 and center_y < line_pt_1[1] + 7:\n",
    "                bike_count += 1\n",
    "                \n",
    "            cv2.putText(frame, \"BIKE\", (x, y - 10), cv2.FONT_HERSHEY_SIMPLEX, 0.5, (0, 255, 0))\n",
    "            cv2.rectangle(frame, (x, y), (x + w, y + h), (0, 255, 0), 2)\n",
    "        \n",
    "        cv2.circle(frame, (113, 100), 80, (0, 0, 0), -1)\n",
    "        cv2.putText(frame, \"BIKES:{:2}\".format(bike_count), (45, 109), cv2.FONT_HERSHEY_SIMPLEX, 1, (255, 255, 255))\n",
    "        \n",
    "        if pre_bike_count != bike_count:\n",
    "            cv2.line(frame, line_pt_1, line_pt_2, (0, 0, 255), 6)\n",
    "            cv2.imshow(\"LIVE BIKE COUNT\", frame)\n",
    "            cv2.waitKey(300)\n",
    "            cv2.line(frame, line_pt_1, line_pt_2, (0, 128, 255), 6)\n",
    "            \n",
    "        cv2.imshow(\"LIVE BIKE COUNT\", frame)\n",
    "        pre_bike_count = bike_count\n",
    "    k = cv2.waitKey(1)\n",
    "    if k == 27:\n",
    "        break\n",
    "source.release()\n",
    "cv2.destroyAllWindows()"
   ]
  },
  {
   "cell_type": "code",
   "execution_count": null,
   "id": "de32e10e",
   "metadata": {},
   "outputs": [],
   "source": []
  }
 ],
 "metadata": {
  "kernelspec": {
   "display_name": "Python 3.10.2 64-bit",
   "language": "python",
   "name": "python3"
  },
  "language_info": {
   "codemirror_mode": {
    "name": "ipython",
    "version": 3
   },
   "file_extension": ".py",
   "mimetype": "text/x-python",
   "name": "python",
   "nbconvert_exporter": "python",
   "pygments_lexer": "ipython3",
   "version": "3.10.2"
  },
  "vscode": {
   "interpreter": {
    "hash": "b2b9ed2f758ea7019c62ddc2c4686da189c449cf25e556e37851562caab2f41e"
   }
  }
 },
 "nbformat": 4,
 "nbformat_minor": 5
}
